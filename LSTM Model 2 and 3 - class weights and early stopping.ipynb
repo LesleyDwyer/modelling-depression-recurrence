{
 "cells": [
  {
   "cell_type": "markdown",
   "metadata": {},
   "source": [
    "## LSTM Model 2 - class weights, LSTM Model 3 - class weights and early stopping\n",
    "\n",
    "The code was adapted from a blog post by Aishwarya Singh (2019) called 'A Hands-On Introduction to Time Series Classification (with Python Code)'"
   ]
  },
  {
   "cell_type": "code",
   "execution_count": 1,
   "metadata": {},
   "outputs": [
    {
     "name": "stderr",
     "output_type": "stream",
     "text": [
      "Using TensorFlow backend.\n"
     ]
    }
   ],
   "source": [
    "# Import libraries\n",
    "import numpy as np\n",
    "import pandas as pd\n",
    "import tensorflow as tf\n",
    "from sklearn.preprocessing import StandardScaler\n",
    "from keras.models import Sequential\n",
    "from keras.layers import Dense\n",
    "from keras.layers import LSTM\n",
    "from keras.preprocessing import sequence\n",
    "from keras.optimizers import Adam\n",
    "from keras.models import load_model\n",
    "from keras.callbacks import ModelCheckpoint\n",
    "\n",
    "# fix random seed for reproducibility\n",
    "np.random.seed(7)"
   ]
  },
  {
   "cell_type": "code",
   "execution_count": 2,
   "metadata": {},
   "outputs": [],
   "source": [
    "# Load data \n",
    "df = pd.read_csv('Seq_data_2.csv')"
   ]
  },
  {
   "cell_type": "code",
   "execution_count": 3,
   "metadata": {},
   "outputs": [
    {
     "data": {
      "text/plain": [
       "(216563, 77)"
      ]
     },
     "execution_count": 3,
     "metadata": {},
     "output_type": "execute_result"
    }
   ],
   "source": [
    "df.shape"
   ]
  },
  {
   "cell_type": "code",
   "execution_count": 4,
   "metadata": {},
   "outputs": [],
   "source": [
    "# Load targets\n",
    "targets = pd.read_csv('Seq_target.csv')"
   ]
  },
  {
   "cell_type": "code",
   "execution_count": 5,
   "metadata": {},
   "outputs": [
    {
     "data": {
      "text/plain": [
       "(11976, 1)"
      ]
     },
     "execution_count": 5,
     "metadata": {},
     "output_type": "execute_result"
    }
   ],
   "source": [
    "targets.shape"
   ]
  },
  {
   "cell_type": "code",
   "execution_count": 6,
   "metadata": {},
   "outputs": [],
   "source": [
    "# Set sequence length\n",
    "seq_len = 9"
   ]
  },
  {
   "cell_type": "code",
   "execution_count": 7,
   "metadata": {},
   "outputs": [],
   "source": [
    "# Generate the sequences using Patient IDs\n",
    "sequences = list()\n",
    "patient_list = df['BrcId'].unique()\n",
    "for patient in patient_list:\n",
    "    values = df[df['BrcId']==patient].values\n",
    "    sequences.append(values)"
   ]
  },
  {
   "cell_type": "code",
   "execution_count": 8,
   "metadata": {},
   "outputs": [
    {
     "data": {
      "text/plain": [
       "count    11976.000000\n",
       "mean        18.083083\n",
       "std         25.519482\n",
       "min          2.000000\n",
       "25%          6.000000\n",
       "50%          9.000000\n",
       "75%         19.000000\n",
       "max        687.000000\n",
       "dtype: float64"
      ]
     },
     "execution_count": 8,
     "metadata": {},
     "output_type": "execute_result"
    }
   ],
   "source": [
    "# Show the sequence stats\n",
    "len_sequences = []\n",
    "for one_seq in sequences:\n",
    "    len_sequences.append(len(one_seq))\n",
    "pd.Series(len_sequences).describe()"
   ]
  },
  {
   "cell_type": "code",
   "execution_count": 9,
   "metadata": {},
   "outputs": [],
   "source": [
    "#truncate the sequence to length 9, pad values with -1\n",
    "sequences=sequence.pad_sequences(sequences, maxlen=seq_len, padding='pre', dtype='float', truncating='pre', value=-1)"
   ]
  },
  {
   "cell_type": "code",
   "execution_count": 10,
   "metadata": {},
   "outputs": [
    {
     "data": {
      "text/plain": [
       "count    11976.0\n",
       "mean         9.0\n",
       "std          0.0\n",
       "min          9.0\n",
       "25%          9.0\n",
       "50%          9.0\n",
       "75%          9.0\n",
       "max          9.0\n",
       "dtype: float64"
      ]
     },
     "execution_count": 10,
     "metadata": {},
     "output_type": "execute_result"
    }
   ],
   "source": [
    "# Updated length is now 9 for all sequences\n",
    "len_sequences = []\n",
    "for one_seq in sequences:\n",
    "    len_sequences.append(len(one_seq))\n",
    "pd.Series(len_sequences).describe()"
   ]
  },
  {
   "cell_type": "code",
   "execution_count": 11,
   "metadata": {},
   "outputs": [],
   "source": [
    "# Set the sequence data to df and targets to the target field\n",
    "df = sequences\n",
    "targets = np.array(targets['relapse_in_24M'])"
   ]
  },
  {
   "cell_type": "code",
   "execution_count": 12,
   "metadata": {},
   "outputs": [],
   "source": [
    "# Split training and testing - 70/30\n",
    "num_train_patients = round(.7*targets.shape[0])\n",
    "num_test_patients = round(.3*targets.shape[0])"
   ]
  },
  {
   "cell_type": "code",
   "execution_count": 13,
   "metadata": {},
   "outputs": [],
   "source": [
    "# Assign training and testing to index ranges\n",
    "X_train = [df[i] for i in range(num_train_patients)] \n",
    "X_test = [df[i+num_train_patients] for i in range(num_test_patients)]\n",
    "y_train = [targets[i] for i in range(num_train_patients)] \n",
    "y_test = [targets[i+num_train_patients] for i in range(num_test_patients)] "
   ]
  },
  {
   "cell_type": "code",
   "execution_count": 14,
   "metadata": {},
   "outputs": [],
   "source": [
    "# Convert to numpy arrays\n",
    "X_train = np.array(X_train)\n",
    "X_test = np.array(X_test)\n",
    "y_train = np.array(y_train)\n",
    "y_test = np.array(y_test)"
   ]
  },
  {
   "cell_type": "code",
   "execution_count": 15,
   "metadata": {},
   "outputs": [
    {
     "data": {
      "text/plain": [
       "(8383, 9, 77)"
      ]
     },
     "execution_count": 15,
     "metadata": {},
     "output_type": "execute_result"
    }
   ],
   "source": [
    "X_train.shape"
   ]
  },
  {
   "cell_type": "code",
   "execution_count": 16,
   "metadata": {},
   "outputs": [],
   "source": [
    "# Remove BrcID\n",
    "X_train= np.delete(X_train,0,axis=2)\n",
    "X_test = np.delete(X_test,0,axis=2)"
   ]
  },
  {
   "cell_type": "code",
   "execution_count": 17,
   "metadata": {},
   "outputs": [
    {
     "data": {
      "text/plain": [
       "(8383, 9, 76)"
      ]
     },
     "execution_count": 17,
     "metadata": {},
     "output_type": "execute_result"
    }
   ],
   "source": [
    "X_train.shape"
   ]
  },
  {
   "cell_type": "markdown",
   "metadata": {},
   "source": [
    "### Grid Search\n",
    "\n",
    "This code was adapted from a blog post by Jason Brownlee (2019) called 'How to Grid Search Hyperparameters for Deep Learning Models in Python With Keras'."
   ]
  },
  {
   "cell_type": "code",
   "execution_count": 47,
   "metadata": {},
   "outputs": [
    {
     "name": "stderr",
     "output_type": "stream",
     "text": [
      "C:\\Users\\LDwyer\\AppData\\Local\\Continuum\\anaconda3\\lib\\site-packages\\sklearn\\model_selection\\_split.py:2053: FutureWarning: You should specify a value for 'cv' instead of relying on the default value. The default value will change from 3 to 5 in version 0.22.\n",
      "  warnings.warn(CV_WARNING, FutureWarning)\n"
     ]
    },
    {
     "name": "stdout",
     "output_type": "stream",
     "text": [
      "Best: 0.784325 using {'batch_size': 30, 'epochs': 100}\n",
      "0.562090 (0.098161) with: {'batch_size': 10, 'epochs': 10}\n",
      "0.655851 (0.025078) with: {'batch_size': 10, 'epochs': 20}\n",
      "0.760706 (0.020924) with: {'batch_size': 10, 'epochs': 50}\n",
      "0.783729 (0.013532) with: {'batch_size': 10, 'epochs': 100}\n",
      "0.515448 (0.027140) with: {'batch_size': 20, 'epochs': 10}\n",
      "0.645950 (0.033894) with: {'batch_size': 20, 'epochs': 20}\n",
      "0.765836 (0.011505) with: {'batch_size': 20, 'epochs': 50}\n",
      "0.761422 (0.041391) with: {'batch_size': 20, 'epochs': 100}\n",
      "0.560420 (0.032305) with: {'batch_size': 30, 'epochs': 10}\n",
      "0.654539 (0.029225) with: {'batch_size': 30, 'epochs': 20}\n",
      "0.760229 (0.009227) with: {'batch_size': 30, 'epochs': 50}\n",
      "0.784325 (0.011197) with: {'batch_size': 30, 'epochs': 100}\n"
     ]
    }
   ],
   "source": [
    "# Use scikit-learn to grid search the batch size and epochs\n",
    "from sklearn.model_selection import GridSearchCV\n",
    "from keras.wrappers.scikit_learn import KerasClassifier\n",
    "\n",
    "# Function to create model, required for KerasClassifier\n",
    "def create_model():\n",
    "    model = Sequential()\n",
    "    model.add(LSTM(100, input_shape=(seq_len, X_train.shape[2])))\n",
    "    model.add(Dense(1, activation='sigmoid'))\n",
    "\n",
    "    # Loss function is binary_crossentropy as it's binary classification, ADAM optimization algorithm\n",
    "    model.compile(loss='binary_crossentropy', optimizer='adam', metrics=['accuracy'])\n",
    "    return model\n",
    "\n",
    "# create model\n",
    "model = KerasClassifier(build_fn=create_model, verbose=0)\n",
    "\n",
    "# define the grid search parameters\n",
    "batch_size = [10, 20, 30]\n",
    "epochs = [10, 20, 50, 100]\n",
    "\n",
    "param_grid = dict(batch_size=batch_size, epochs=epochs)\n",
    "grid = GridSearchCV(estimator=model, param_grid=param_grid)\n",
    "class_weight = {1:8.17, 0:1}\n",
    "grid_result = grid.fit(X_train, y_train, class_weight=class_weight)\n",
    "\n",
    "# summarize results\n",
    "print(\"Best: %f using %s\" % (grid_result.best_score_, grid_result.best_params_))\n",
    "means = grid_result.cv_results_['mean_test_score']\n",
    "stds = grid_result.cv_results_['std_test_score']\n",
    "params = grid_result.cv_results_['params']\n",
    "for mean, stdev, param in zip(means, stds, params):\n",
    "    print(\"%f (%f) with: %r\" % (mean, stdev, param))"
   ]
  },
  {
   "cell_type": "code",
   "execution_count": 48,
   "metadata": {},
   "outputs": [
    {
     "name": "stdout",
     "output_type": "stream",
     "text": [
      "Best: 0.794823 using {'units': 300}\n",
      "0.767267 (0.012275) with: {'units': 50}\n",
      "0.790171 (0.007498) with: {'units': 100}\n",
      "0.788381 (0.004072) with: {'units': 150}\n",
      "0.749135 (0.063298) with: {'units': 200}\n",
      "0.777884 (0.028214) with: {'units': 250}\n",
      "0.794823 (0.005115) with: {'units': 300}\n"
     ]
    }
   ],
   "source": [
    "# Use scikit-learn to grid search the number of hidden units\n",
    "# Function to create model, required for KerasClassifier\n",
    "from sklearn.model_selection import GridSearchCV\n",
    "from keras.wrappers.scikit_learn import KerasClassifier\n",
    "\n",
    "def create_model(units=50):\n",
    "    model = Sequential()\n",
    "    model.add(LSTM(units, input_shape=(seq_len, X_train.shape[2])))\n",
    "    model.add(Dense(1, activation='sigmoid'))\n",
    "\n",
    "    # Loss function is binary_crossentropy as it's binary classification, ADAM optimization algorithm\n",
    "    model.compile(loss='binary_crossentropy', optimizer='adam', metrics=['accuracy'])\n",
    "    return model\n",
    "\n",
    "# create model\n",
    "model = KerasClassifier(build_fn=create_model, verbose=0, epochs=100, batch_size=30)\n",
    "\n",
    "# define the grid search parameters\n",
    "units = [50, 100, 150, 200, 250, 300]\n",
    "\n",
    "param_grid = dict(units=units)\n",
    "grid = GridSearchCV(estimator=model, param_grid=param_grid)\n",
    "class_weight = {1:8.17, 0:1}\n",
    "grid_result = grid.fit(X_train, y_train, class_weight=class_weight)\n",
    "\n",
    "# summarize results\n",
    "print(\"Best: %f using %s\" % (grid_result.best_score_, grid_result.best_params_))\n",
    "means = grid_result.cv_results_['mean_test_score']\n",
    "stds = grid_result.cv_results_['std_test_score']\n",
    "params = grid_result.cv_results_['params']\n",
    "for mean, stdev, param in zip(means, stds, params):\n",
    "    print(\"%f (%f) with: %r\" % (mean, stdev, param))"
   ]
  },
  {
   "cell_type": "markdown",
   "metadata": {},
   "source": [
    "### Build Model 2 with best hyperparameters from Grid Search"
   ]
  },
  {
   "cell_type": "code",
   "execution_count": 18,
   "metadata": {},
   "outputs": [
    {
     "name": "stdout",
     "output_type": "stream",
     "text": [
      "WARNING:tensorflow:From C:\\Users\\LDwyer\\AppData\\Local\\Continuum\\anaconda3\\lib\\site-packages\\tensorflow\\python\\framework\\op_def_library.py:263: colocate_with (from tensorflow.python.framework.ops) is deprecated and will be removed in a future version.\n",
      "Instructions for updating:\n",
      "Colocations handled automatically by placer.\n"
     ]
    }
   ],
   "source": [
    "# Create model with LSTM layer\n",
    "model = Sequential()\n",
    "model.add(LSTM(300, input_shape=(seq_len, X_train.shape[2])))\n",
    "model.add(Dense(1, activation='sigmoid'))\n",
    "\n",
    "# Loss function is binary_crossentropy as it's binary classification, efficient ADAM optimization algorithm used\n",
    "model.compile(loss='binary_crossentropy', optimizer='adam', metrics=['accuracy'])"
   ]
  },
  {
   "cell_type": "code",
   "execution_count": 19,
   "metadata": {},
   "outputs": [
    {
     "name": "stdout",
     "output_type": "stream",
     "text": [
      "_________________________________________________________________\n",
      "Layer (type)                 Output Shape              Param #   \n",
      "=================================================================\n",
      "lstm_1 (LSTM)                (None, 300)               452400    \n",
      "_________________________________________________________________\n",
      "dense_1 (Dense)              (None, 1)                 301       \n",
      "=================================================================\n",
      "Total params: 452,701\n",
      "Trainable params: 452,701\n",
      "Non-trainable params: 0\n",
      "_________________________________________________________________\n"
     ]
    }
   ],
   "source": [
    "# Model summary\n",
    "model.summary()"
   ]
  },
  {
   "cell_type": "code",
   "execution_count": 20,
   "metadata": {},
   "outputs": [
    {
     "name": "stdout",
     "output_type": "stream",
     "text": [
      "WARNING:tensorflow:From C:\\Users\\LDwyer\\AppData\\Local\\Continuum\\anaconda3\\lib\\site-packages\\tensorflow\\python\\ops\\math_ops.py:3066: to_int32 (from tensorflow.python.ops.math_ops) is deprecated and will be removed in a future version.\n",
      "Instructions for updating:\n",
      "Use tf.cast instead.\n",
      "Train on 8383 samples, validate on 3593 samples\n",
      "Epoch 1/100\n",
      "8383/8383 [==============================] - 12s 1ms/step - loss: 1.3128 - acc: 0.4217 - val_loss: 0.7122 - val_acc: 0.5096\n",
      "Epoch 2/100\n",
      "8383/8383 [==============================] - 10s 1ms/step - loss: 1.2884 - acc: 0.4609 - val_loss: 0.8140 - val_acc: 0.3743\n",
      "Epoch 3/100\n",
      "8383/8383 [==============================] - 9s 1ms/step - loss: 1.2804 - acc: 0.4639 - val_loss: 0.7474 - val_acc: 0.5129\n",
      "Epoch 4/100\n",
      "8383/8383 [==============================] - 9s 1ms/step - loss: 1.2694 - acc: 0.4941 - val_loss: 0.8066 - val_acc: 0.3919\n",
      "Epoch 5/100\n",
      "8383/8383 [==============================] - 9s 1ms/step - loss: 1.2630 - acc: 0.4891 - val_loss: 0.7300 - val_acc: 0.5032\n",
      "Epoch 6/100\n",
      "8383/8383 [==============================] - 10s 1ms/step - loss: 1.2605 - acc: 0.5002 - val_loss: 0.7027 - val_acc: 0.5436\n",
      "Epoch 7/100\n",
      "8383/8383 [==============================] - 8s 977us/step - loss: 1.2434 - acc: 0.5226 - val_loss: 0.7254 - val_acc: 0.5424\n",
      "Epoch 8/100\n",
      "8383/8383 [==============================] - 8s 920us/step - loss: 1.2263 - acc: 0.5422 - val_loss: 0.7575 - val_acc: 0.5196\n",
      "Epoch 9/100\n",
      "8383/8383 [==============================] - 10s 1ms/step - loss: 1.2098 - acc: 0.5379 - val_loss: 0.6461 - val_acc: 0.6198\n",
      "Epoch 10/100\n",
      "8383/8383 [==============================] - 10s 1ms/step - loss: 1.1870 - acc: 0.5659 - val_loss: 0.7123 - val_acc: 0.5388\n",
      "Epoch 11/100\n",
      "8383/8383 [==============================] - 10s 1ms/step - loss: 1.1514 - acc: 0.5819 - val_loss: 0.6860 - val_acc: 0.6026\n",
      "Epoch 12/100\n",
      "8383/8383 [==============================] - 11s 1ms/step - loss: 1.0943 - acc: 0.6260 - val_loss: 0.6905 - val_acc: 0.5519\n",
      "Epoch 13/100\n",
      "8383/8383 [==============================] - 11s 1ms/step - loss: 1.0508 - acc: 0.6432 - val_loss: 0.6701 - val_acc: 0.6254\n",
      "Epoch 14/100\n",
      "8383/8383 [==============================] - 11s 1ms/step - loss: 0.9886 - acc: 0.6772 - val_loss: 0.6776 - val_acc: 0.6265\n",
      "Epoch 15/100\n",
      "8383/8383 [==============================] - 10s 1ms/step - loss: 0.9069 - acc: 0.7057 - val_loss: 0.7402 - val_acc: 0.5903\n",
      "Epoch 16/100\n",
      "8383/8383 [==============================] - 8s 953us/step - loss: 0.8320 - acc: 0.7390 - val_loss: 0.7227 - val_acc: 0.6382\n",
      "Epoch 17/100\n",
      "8383/8383 [==============================] - 11s 1ms/step - loss: 0.7462 - acc: 0.7679 - val_loss: 0.6833 - val_acc: 0.6783\n",
      "Epoch 18/100\n",
      "8383/8383 [==============================] - 11s 1ms/step - loss: 0.6774 - acc: 0.7969 - val_loss: 0.7726 - val_acc: 0.6490\n",
      "Epoch 19/100\n",
      "8383/8383 [==============================] - 11s 1ms/step - loss: 0.6030 - acc: 0.8183 - val_loss: 0.6824 - val_acc: 0.7484\n",
      "Epoch 20/100\n",
      "8383/8383 [==============================] - 11s 1ms/step - loss: 0.5571 - acc: 0.8387 - val_loss: 0.6910 - val_acc: 0.7529\n",
      "Epoch 21/100\n",
      "8383/8383 [==============================] - 11s 1ms/step - loss: 0.4710 - acc: 0.8676 - val_loss: 0.7940 - val_acc: 0.6925\n",
      "Epoch 22/100\n",
      "8383/8383 [==============================] - 13s 2ms/step - loss: 0.4544 - acc: 0.8679 - val_loss: 0.7786 - val_acc: 0.7403\n",
      "Epoch 23/100\n",
      "8383/8383 [==============================] - 9s 1ms/step - loss: 0.3672 - acc: 0.8974 - val_loss: 0.7799 - val_acc: 0.7654\n",
      "Epoch 24/100\n",
      "8383/8383 [==============================] - 12s 1ms/step - loss: 0.3026 - acc: 0.9190 - val_loss: 0.9036 - val_acc: 0.7139\n",
      "Epoch 25/100\n",
      "8383/8383 [==============================] - 12s 1ms/step - loss: 0.2742 - acc: 0.9270 - val_loss: 0.8647 - val_acc: 0.7665\n",
      "Epoch 26/100\n",
      "8383/8383 [==============================] - 11s 1ms/step - loss: 0.3401 - acc: 0.9083 - val_loss: 0.9372 - val_acc: 0.7117\n",
      "Epoch 27/100\n",
      "8383/8383 [==============================] - 11s 1ms/step - loss: 0.2579 - acc: 0.9278 - val_loss: 0.9038 - val_acc: 0.7662\n",
      "Epoch 28/100\n",
      "8383/8383 [==============================] - 11s 1ms/step - loss: 0.2626 - acc: 0.9328 - val_loss: 0.9286 - val_acc: 0.7289\n",
      "Epoch 29/100\n",
      "8383/8383 [==============================] - 11s 1ms/step - loss: 0.2318 - acc: 0.9368 - val_loss: 0.8406 - val_acc: 0.7885\n",
      "Epoch 30/100\n",
      "8383/8383 [==============================] - 11s 1ms/step - loss: 0.1759 - acc: 0.9543 - val_loss: 0.9056 - val_acc: 0.7949\n",
      "Epoch 31/100\n",
      "8383/8383 [==============================] - 10s 1ms/step - loss: 0.1517 - acc: 0.9617 - val_loss: 0.9734 - val_acc: 0.7868\n",
      "Epoch 32/100\n",
      "8383/8383 [==============================] - 12s 1ms/step - loss: 0.1327 - acc: 0.9640 - val_loss: 1.0070 - val_acc: 0.7851\n",
      "Epoch 33/100\n",
      "8383/8383 [==============================] - 11s 1ms/step - loss: 0.1459 - acc: 0.9633 - val_loss: 0.9840 - val_acc: 0.7949\n",
      "Epoch 34/100\n",
      "8383/8383 [==============================] - 9s 1ms/step - loss: 0.1783 - acc: 0.9555 - val_loss: 0.9464 - val_acc: 0.7960\n",
      "Epoch 35/100\n",
      "8383/8383 [==============================] - 10s 1ms/step - loss: 0.2319 - acc: 0.9439 - val_loss: 0.9702 - val_acc: 0.7851\n",
      "Epoch 36/100\n",
      "8383/8383 [==============================] - 9s 1ms/step - loss: 0.1603 - acc: 0.9602 - val_loss: 1.0337 - val_acc: 0.7609\n",
      "Epoch 37/100\n",
      "8383/8383 [==============================] - 10s 1ms/step - loss: 0.1569 - acc: 0.9609 - val_loss: 1.0156 - val_acc: 0.7785\n",
      "Epoch 38/100\n",
      "8383/8383 [==============================] - 8s 918us/step - loss: 0.1294 - acc: 0.9671 - val_loss: 1.0934 - val_acc: 0.7801\n",
      "Epoch 39/100\n",
      "8383/8383 [==============================] - 11s 1ms/step - loss: 0.1123 - acc: 0.9723 - val_loss: 1.0480 - val_acc: 0.7832\n",
      "Epoch 40/100\n",
      "8383/8383 [==============================] - 12s 1ms/step - loss: 0.2116 - acc: 0.9492 - val_loss: 1.0172 - val_acc: 0.7768\n",
      "Epoch 41/100\n",
      "8383/8383 [==============================] - 12s 1ms/step - loss: 0.1262 - acc: 0.9680 - val_loss: 1.0651 - val_acc: 0.7776\n",
      "Epoch 42/100\n",
      "8383/8383 [==============================] - 12s 1ms/step - loss: 0.0793 - acc: 0.9798 - val_loss: 1.0623 - val_acc: 0.7851\n",
      "Epoch 43/100\n",
      "8383/8383 [==============================] - 10s 1ms/step - loss: 0.0694 - acc: 0.9820 - val_loss: 1.0898 - val_acc: 0.8027\n",
      "Epoch 44/100\n",
      "8383/8383 [==============================] - 10s 1ms/step - loss: 0.0597 - acc: 0.9845 - val_loss: 1.1305 - val_acc: 0.7940\n",
      "Epoch 45/100\n",
      "8383/8383 [==============================] - 8s 943us/step - loss: 0.1114 - acc: 0.9728 - val_loss: 1.0959 - val_acc: 0.7659\n",
      "Epoch 46/100\n",
      "8383/8383 [==============================] - 8s 945us/step - loss: 0.2960 - acc: 0.9346 - val_loss: 1.0811 - val_acc: 0.7565\n",
      "Epoch 47/100\n",
      "8383/8383 [==============================] - 10s 1ms/step - loss: 0.1294 - acc: 0.9696 - val_loss: 1.0810 - val_acc: 0.7637\n",
      "Epoch 48/100\n",
      "8383/8383 [==============================] - 11s 1ms/step - loss: 0.0706 - acc: 0.9823 - val_loss: 1.0491 - val_acc: 0.8088\n",
      "Epoch 49/100\n",
      "8383/8383 [==============================] - 10s 1ms/step - loss: 0.0604 - acc: 0.9853 - val_loss: 1.1261 - val_acc: 0.7798\n",
      "Epoch 50/100\n",
      "8383/8383 [==============================] - 9s 1ms/step - loss: 0.0587 - acc: 0.9864 - val_loss: 1.1591 - val_acc: 0.7921\n",
      "Epoch 51/100\n",
      "8383/8383 [==============================] - 9s 1ms/step - loss: 0.0543 - acc: 0.9853 - val_loss: 1.1492 - val_acc: 0.8141\n",
      "Epoch 52/100\n",
      "8383/8383 [==============================] - 11s 1ms/step - loss: 0.0543 - acc: 0.9864 - val_loss: 1.1707 - val_acc: 0.8004\n",
      "Epoch 53/100\n",
      "8383/8383 [==============================] - 9s 1ms/step - loss: 0.0565 - acc: 0.9870 - val_loss: 1.1753 - val_acc: 0.7938\n",
      "Epoch 54/100\n",
      "8383/8383 [==============================] - 6s 732us/step - loss: 0.1724 - acc: 0.9587 - val_loss: 1.1216 - val_acc: 0.7503\n",
      "Epoch 55/100\n",
      "8383/8383 [==============================] - 10s 1ms/step - loss: 0.2275 - acc: 0.9456 - val_loss: 1.0584 - val_acc: 0.7623\n",
      "Epoch 56/100\n",
      "8383/8383 [==============================] - 11s 1ms/step - loss: 0.1282 - acc: 0.9704 - val_loss: 1.0948 - val_acc: 0.7812\n",
      "Epoch 57/100\n",
      "8383/8383 [==============================] - 10s 1ms/step - loss: 0.0606 - acc: 0.9850 - val_loss: 1.1131 - val_acc: 0.8099\n",
      "Epoch 58/100\n",
      "8383/8383 [==============================] - 10s 1ms/step - loss: 0.0453 - acc: 0.9889 - val_loss: 1.1475 - val_acc: 0.8016\n",
      "Epoch 59/100\n",
      "8383/8383 [==============================] - 11s 1ms/step - loss: 0.0451 - acc: 0.9882 - val_loss: 1.1949 - val_acc: 0.7977\n",
      "Epoch 60/100\n",
      "8383/8383 [==============================] - 10s 1ms/step - loss: 0.0409 - acc: 0.9890 - val_loss: 1.1910 - val_acc: 0.8055\n",
      "Epoch 61/100\n",
      "8383/8383 [==============================] - 10s 1ms/step - loss: 0.0490 - acc: 0.9885 - val_loss: 1.2100 - val_acc: 0.8063\n",
      "Epoch 62/100\n",
      "8383/8383 [==============================] - 7s 825us/step - loss: 0.1099 - acc: 0.9754 - val_loss: 1.1669 - val_acc: 0.8068\n",
      "Epoch 63/100\n",
      "8383/8383 [==============================] - 8s 930us/step - loss: 0.1652 - acc: 0.9610 - val_loss: 1.1036 - val_acc: 0.7868\n",
      "Epoch 64/100\n",
      "8383/8383 [==============================] - 10s 1ms/step - loss: 0.1479 - acc: 0.9674 - val_loss: 1.1103 - val_acc: 0.7818\n",
      "Epoch 65/100\n",
      "8383/8383 [==============================] - 10s 1ms/step - loss: 0.0862 - acc: 0.9794 - val_loss: 1.0706 - val_acc: 0.8030\n",
      "Epoch 66/100\n",
      "8383/8383 [==============================] - 10s 1ms/step - loss: 0.0516 - acc: 0.9880 - val_loss: 1.1063 - val_acc: 0.8099\n",
      "Epoch 67/100\n",
      "8383/8383 [==============================] - 11s 1ms/step - loss: 0.0453 - acc: 0.9909 - val_loss: 1.1621 - val_acc: 0.8057\n",
      "Epoch 68/100\n",
      "8383/8383 [==============================] - 10s 1ms/step - loss: 0.0430 - acc: 0.9883 - val_loss: 1.1294 - val_acc: 0.8158\n",
      "Epoch 69/100\n",
      "8383/8383 [==============================] - 10s 1ms/step - loss: 0.0418 - acc: 0.9890 - val_loss: 1.1978 - val_acc: 0.8063\n",
      "Epoch 70/100\n",
      "8383/8383 [==============================] - 9s 1ms/step - loss: 0.0438 - acc: 0.9897 - val_loss: 1.1991 - val_acc: 0.8088\n",
      "Epoch 71/100\n",
      "8383/8383 [==============================] - 7s 814us/step - loss: 0.0417 - acc: 0.9887 - val_loss: 1.1941 - val_acc: 0.8113\n",
      "Epoch 72/100\n",
      "8383/8383 [==============================] - 9s 1ms/step - loss: 0.1447 - acc: 0.9662 - val_loss: 1.1226 - val_acc: 0.7812\n",
      "Epoch 73/100\n",
      "8383/8383 [==============================] - 9s 1ms/step - loss: 0.2316 - acc: 0.9487 - val_loss: 1.0947 - val_acc: 0.7721\n",
      "Epoch 74/100\n",
      "8383/8383 [==============================] - 9s 1ms/step - loss: 0.1056 - acc: 0.9771 - val_loss: 1.0914 - val_acc: 0.7915\n",
      "Epoch 75/100\n",
      "8383/8383 [==============================] - 9s 1ms/step - loss: 0.0659 - acc: 0.9862 - val_loss: 1.1366 - val_acc: 0.7993\n",
      "Epoch 76/100\n",
      "8383/8383 [==============================] - 9s 1ms/step - loss: 0.0391 - acc: 0.9908 - val_loss: 1.1491 - val_acc: 0.7965\n",
      "Epoch 77/100\n",
      "8383/8383 [==============================] - 8s 1ms/step - loss: 0.0364 - acc: 0.9914 - val_loss: 1.1680 - val_acc: 0.8113\n",
      "Epoch 78/100\n",
      "8383/8383 [==============================] - 8s 994us/step - loss: 0.0328 - acc: 0.9907 - val_loss: 1.1970 - val_acc: 0.8080\n",
      "Epoch 79/100\n",
      "8383/8383 [==============================] - 7s 892us/step - loss: 0.0405 - acc: 0.9907 - val_loss: 1.1938 - val_acc: 0.8107\n",
      "Epoch 80/100\n",
      "8383/8383 [==============================] - 8s 1000us/step - loss: 0.0382 - acc: 0.9921 - val_loss: 1.1931 - val_acc: 0.8055\n",
      "Epoch 81/100\n",
      "8383/8383 [==============================] - 9s 1ms/step - loss: 0.0385 - acc: 0.9903 - val_loss: 1.1959 - val_acc: 0.8238\n",
      "Epoch 82/100\n",
      "8383/8383 [==============================] - 10s 1ms/step - loss: 0.0372 - acc: 0.9907 - val_loss: 1.1951 - val_acc: 0.8188\n",
      "Epoch 83/100\n",
      "8383/8383 [==============================] - 11s 1ms/step - loss: 0.0855 - acc: 0.9820 - val_loss: 1.1047 - val_acc: 0.7821\n",
      "Epoch 84/100\n",
      "8383/8383 [==============================] - 9s 1ms/step - loss: 0.2314 - acc: 0.9467 - val_loss: 1.0896 - val_acc: 0.7821\n",
      "Epoch 85/100\n",
      "8383/8383 [==============================] - 9s 1ms/step - loss: 0.1189 - acc: 0.9734 - val_loss: 1.0896 - val_acc: 0.8021\n",
      "Epoch 86/100\n",
      "8383/8383 [==============================] - 9s 1ms/step - loss: 0.0427 - acc: 0.9906 - val_loss: 1.1235 - val_acc: 0.7979\n",
      "Epoch 87/100\n",
      "8383/8383 [==============================] - 9s 1ms/step - loss: 0.0339 - acc: 0.9913 - val_loss: 1.1427 - val_acc: 0.8138\n",
      "Epoch 88/100\n",
      "8383/8383 [==============================] - 7s 865us/step - loss: 0.0332 - acc: 0.9920 - val_loss: 1.1771 - val_acc: 0.8024\n",
      "Epoch 89/100\n",
      "8383/8383 [==============================] - 11s 1ms/step - loss: 0.0348 - acc: 0.9919 - val_loss: 1.1792 - val_acc: 0.8063\n",
      "Epoch 90/100\n",
      "8383/8383 [==============================] - 12s 1ms/step - loss: 0.0323 - acc: 0.9924 - val_loss: 1.1897 - val_acc: 0.8049\n",
      "Epoch 91/100\n",
      "8383/8383 [==============================] - 9s 1ms/step - loss: 0.0329 - acc: 0.9915 - val_loss: 1.1932 - val_acc: 0.8082\n",
      "Epoch 92/100\n",
      "8383/8383 [==============================] - 9s 1ms/step - loss: 0.0372 - acc: 0.9907 - val_loss: 1.2388 - val_acc: 0.8024\n",
      "Epoch 93/100\n",
      "8383/8383 [==============================] - 9s 1ms/step - loss: 0.0391 - acc: 0.9906 - val_loss: 1.2161 - val_acc: 0.8046\n",
      "Epoch 94/100\n",
      "8383/8383 [==============================] - 9s 1ms/step - loss: 0.0411 - acc: 0.9893 - val_loss: 1.2264 - val_acc: 0.8144\n",
      "Epoch 95/100\n",
      "8383/8383 [==============================] - 9s 1ms/step - loss: 0.0581 - acc: 0.9871 - val_loss: 1.2286 - val_acc: 0.8007\n",
      "Epoch 96/100\n",
      "8383/8383 [==============================] - 7s 820us/step - loss: 0.1890 - acc: 0.9634 - val_loss: 1.1647 - val_acc: 0.7353\n",
      "Epoch 97/100\n",
      "8383/8383 [==============================] - 9s 1ms/step - loss: 0.2234 - acc: 0.9501 - val_loss: 1.1532 - val_acc: 0.7626\n",
      "Epoch 98/100\n",
      "8383/8383 [==============================] - 9s 1ms/step - loss: 0.0681 - acc: 0.9835 - val_loss: 1.1233 - val_acc: 0.8046\n",
      "Epoch 99/100\n",
      "8383/8383 [==============================] - 9s 1ms/step - loss: 0.0343 - acc: 0.9919 - val_loss: 1.1397 - val_acc: 0.8077\n",
      "Epoch 100/100\n",
      "8383/8383 [==============================] - 9s 1ms/step - loss: 0.0301 - acc: 0.9932 - val_loss: 1.1639 - val_acc: 0.8046\n"
     ]
    }
   ],
   "source": [
    "# Fit model  \n",
    "class_weight = {1:8.17, 0:1}\n",
    "history = model.fit(X_train, y_train, validation_data=(X_test, y_test), epochs=100, batch_size=30\n",
    "                    ,  class_weight = class_weight)"
   ]
  },
  {
   "cell_type": "code",
   "execution_count": 29,
   "metadata": {},
   "outputs": [
    {
     "data": {
      "image/png": "[encoded data removed]",
      "text/plain": [
       "<Figure size 432x288 with 1 Axes>"
      ]
     },
     "metadata": {
      "needs_background": "light"
     },
     "output_type": "display_data"
    }
   ],
   "source": [
    "# Plot training and validation loss \n",
    "# Code provided by Chollet (2018, p. 74)\n",
    "\n",
    "import matplotlib.pyplot as plt\n",
    "\n",
    "history_dict = history.history\n",
    "loss_values = history_dict['loss']\n",
    "val_loss_values = history_dict['val_loss']\n",
    "epochs = range(1, len(loss_values) + 1)\n",
    "plt.plot(epochs, loss_values, 'bo', label='Training Loss')\n",
    "plt.plot(epochs, val_loss_values, 'b', label='Validation Loss')\n",
    "plt.title('Training and Validation Loss')\n",
    "plt.xlabel('Epochs')\n",
    "plt.ylabel('Loss')\n",
    "plt.legend()\n",
    "plt.show()"
   ]
  },
  {
   "cell_type": "code",
   "execution_count": 30,
   "metadata": {},
   "outputs": [
    {
     "data": {
      "image/png": "[encoded data removed]",
      "text/plain": [
       "<Figure size 432x288 with 1 Axes>"
      ]
     },
     "metadata": {
      "needs_background": "light"
     },
     "output_type": "display_data"
    }
   ],
   "source": [
    "# Plot training and validation accuracy \n",
    "# Code provided by Chollet (2018, p. 75)\n",
    "\n",
    "plt.clf()\n",
    "acc = history_dict['acc']\n",
    "val_acc = history_dict['val_acc']\n",
    "plt.plot(epochs, acc, 'bo', label='Training acc')\n",
    "plt.plot(epochs, val_acc, 'b', label='Validation acc')\n",
    "plt.title('Training and Validation Acc')\n",
    "plt.xlabel('Epochs')\n",
    "plt.ylabel('Acc')\n",
    "plt.legend()\n",
    "plt.show()"
   ]
  },
  {
   "cell_type": "code",
   "execution_count": 24,
   "metadata": {},
   "outputs": [],
   "source": [
    "# Predict classes for test set\n",
    "# Code provided by Jason Brownlee (2019) in 'How to Calculate Precision, Recall, F1, and More for Deep Learning Models’\n",
    "\n",
    "yhat_classes = model.predict_classes(X_test)"
   ]
  },
  {
   "cell_type": "code",
   "execution_count": 25,
   "metadata": {},
   "outputs": [
    {
     "name": "stdout",
     "output_type": "stream",
     "text": [
      "Accuracy: 0.804620\n",
      "Precision: 0.133489\n",
      "Recall: 0.146530\n",
      "F1 score: 0.139706\n"
     ]
    }
   ],
   "source": [
    "# Calculate additional metrics \n",
    "# Code provided by Jason Brownlee (2019) in 'How to Calculate Precision, Recall, F1, and More for Deep Learning Models’\n",
    "\n",
    "from sklearn import metrics\n",
    "accuracy = metrics.accuracy_score(y_test, yhat_classes)\n",
    "print('Accuracy: %f' % accuracy)\n",
    "# precision tp / (tp + fp)\n",
    "precision = metrics.precision_score(y_test, yhat_classes)\n",
    "print('Precision: %f' % precision)\n",
    "# recall: tp / (tp + fn)\n",
    "recall = metrics.recall_score(y_test, yhat_classes)\n",
    "print('Recall: %f' % recall)\n",
    "# f1: 2 tp / (2 tp + fp + fn)\n",
    "f1 = metrics.f1_score(y_test, yhat_classes)\n",
    "print('F1 score: %f' % f1)"
   ]
  },
  {
   "cell_type": "code",
   "execution_count": 26,
   "metadata": {},
   "outputs": [
    {
     "data": {
      "text/plain": [
       "array([[2834,  370],\n",
       "       [ 332,   57]], dtype=int64)"
      ]
     },
     "execution_count": 26,
     "metadata": {},
     "output_type": "execute_result"
    }
   ],
   "source": [
    "# Confusion matrix\n",
    "# Code provided by Scikit-learn API Reference (2019) \n",
    "\n",
    "from sklearn.metrics import confusion_matrix\n",
    "confusion_matrix(y_test, yhat_classes)"
   ]
  },
  {
   "cell_type": "code",
   "execution_count": 27,
   "metadata": {},
   "outputs": [
    {
     "data": {
      "text/plain": [
       "(2834, 370, 332, 57)"
      ]
     },
     "execution_count": 27,
     "metadata": {},
     "output_type": "execute_result"
    }
   ],
   "source": [
    "# Code provided by Scikit-learn API Reference (2019) \n",
    "\n",
    "tn, fp, fn, tp = confusion_matrix(y_test, yhat_classes).ravel()\n",
    "tn, fp, fn, tp"
   ]
  },
  {
   "cell_type": "code",
   "execution_count": 28,
   "metadata": {},
   "outputs": [
    {
     "data": {
      "text/plain": [
       "0.5155244568967454"
      ]
     },
     "execution_count": 28,
     "metadata": {},
     "output_type": "execute_result"
    }
   ],
   "source": [
    "# AUC\n",
    "# Code provided by Scikit-learn API Reference (2019) \n",
    "\n",
    "fpr, tpr, thresholds = metrics.roc_curve(y_test, yhat_classes, pos_label=1)\n",
    "metrics.auc(fpr, tpr)"
   ]
  },
  {
   "cell_type": "markdown",
   "metadata": {},
   "source": [
    "### Create Model 3 with Early Stopping to stop overfitting "
   ]
  },
  {
   "cell_type": "code",
   "execution_count": 46,
   "metadata": {},
   "outputs": [],
   "source": [
    "# Create model with LSTM layer and Early stopping\n",
    "model = Sequential()\n",
    "model.add(LSTM(300, input_shape=(seq_len, X_train.shape[2])))\n",
    "model.add(Dense(1, activation='sigmoid'))\n",
    "\n",
    "# Early stopping\n",
    "# Code provided by Chollet (2018, p. 250)\n",
    "import keras\n",
    "callbacks_list = [\n",
    "    keras.callbacks.EarlyStopping(\n",
    "        monitor='acc',\n",
    "        patience=1,\n",
    "    ),\n",
    "    keras.callbacks.ModelCheckpoint(\n",
    "        filepath='my_model.h5',\n",
    "        monitor='val_loss',\n",
    "        save_best_only=True,\n",
    "    )\n",
    "]\n",
    "\n",
    "# Loss function is binary_crossentropy as it's binary classification, ADAM optimization algorithm used\n",
    "model.compile(loss='binary_crossentropy', optimizer='adam', metrics=['accuracy'])"
   ]
  },
  {
   "cell_type": "code",
   "execution_count": 47,
   "metadata": {},
   "outputs": [
    {
     "name": "stdout",
     "output_type": "stream",
     "text": [
      "_________________________________________________________________\n",
      "Layer (type)                 Output Shape              Param #   \n",
      "=================================================================\n",
      "lstm_4 (LSTM)                (None, 300)               452400    \n",
      "_________________________________________________________________\n",
      "dense_4 (Dense)              (None, 1)                 301       \n",
      "=================================================================\n",
      "Total params: 452,701\n",
      "Trainable params: 452,701\n",
      "Non-trainable params: 0\n",
      "_________________________________________________________________\n"
     ]
    }
   ],
   "source": [
    "# Model summary\n",
    "model.summary()"
   ]
  },
  {
   "cell_type": "code",
   "execution_count": 48,
   "metadata": {},
   "outputs": [
    {
     "name": "stdout",
     "output_type": "stream",
     "text": [
      "Train on 8383 samples, validate on 3593 samples\n",
      "Epoch 1/100\n",
      "8383/8383 [==============================] - 6s 745us/step - loss: 1.3037 - acc: 0.4205 - val_loss: 0.6616 - val_acc: 0.6404\n",
      "Epoch 2/100\n",
      "8383/8383 [==============================] - 5s 580us/step - loss: 1.2847 - acc: 0.4681 - val_loss: 0.6417 - val_acc: 0.6605\n",
      "Epoch 3/100\n",
      "8383/8383 [==============================] - 5s 588us/step - loss: 1.2718 - acc: 0.4997 - val_loss: 0.8154 - val_acc: 0.3395\n",
      "Epoch 4/100\n",
      "8383/8383 [==============================] - 5s 595us/step - loss: 1.2720 - acc: 0.4756 - val_loss: 0.6853 - val_acc: 0.5884\n"
     ]
    }
   ],
   "source": [
    "# Fit model  \n",
    "class_weight = {1:8.17, 0:1}\n",
    "history = model.fit(X_train, y_train, validation_data=(X_test, y_test), epochs=100, batch_size=30\n",
    "                    ,  class_weight = class_weight\n",
    "                    , callbacks=callbacks_list)"
   ]
  },
  {
   "cell_type": "code",
   "execution_count": 58,
   "metadata": {},
   "outputs": [
    {
     "data": {
      "image/png": "[encoded data removed]",
      "text/plain": [
       "<Figure size 432x288 with 1 Axes>"
      ]
     },
     "metadata": {
      "needs_background": "light"
     },
     "output_type": "display_data"
    }
   ],
   "source": [
    "# Plot training and validation loss \n",
    "# Code provided by Chollet (2018, p. 74)\n",
    "\n",
    "import matplotlib.pyplot as plt\n",
    "\n",
    "history_dict = history.history\n",
    "loss_values = history_dict['loss']\n",
    "val_loss_values = history_dict['val_loss']\n",
    "epochs = range(1, len(loss_values) + 1)\n",
    "plt.plot(epochs, loss_values, 'bo', label='Training Loss')\n",
    "plt.plot(epochs, val_loss_values, 'b', label='Validation Loss')\n",
    "plt.title('Training and Validation Loss')\n",
    "plt.xlabel('Epochs')\n",
    "plt.ylabel('Loss')\n",
    "plt.legend()\n",
    "plt.show()"
   ]
  },
  {
   "cell_type": "code",
   "execution_count": 59,
   "metadata": {},
   "outputs": [
    {
     "data": {
      "image/png": "[encoded data removed]",
      "text/plain": [
       "<Figure size 432x288 with 1 Axes>"
      ]
     },
     "metadata": {
      "needs_background": "light"
     },
     "output_type": "display_data"
    }
   ],
   "source": [
    "# Plot training and validation accuracy \n",
    "# Code provided by Chollet (2018, p. 75)\n",
    "\n",
    "plt.clf()\n",
    "acc = history_dict['acc']\n",
    "val_acc = history_dict['val_acc']\n",
    "plt.plot(epochs, acc, 'bo', label='Training acc')\n",
    "plt.plot(epochs, val_acc, 'b', label='Validation acc')\n",
    "plt.title('Training and Validation Acc')\n",
    "plt.xlabel('Epochs')\n",
    "plt.ylabel('Acc')\n",
    "plt.legend()\n",
    "plt.show()"
   ]
  },
  {
   "cell_type": "code",
   "execution_count": 51,
   "metadata": {},
   "outputs": [],
   "source": [
    "# View the probability produced of each test record\n",
    "# Code provided by Jason Brownlee (2019) in 'How to Calculate Precision, Recall, F1, and More for Deep Learning Models’\n",
    "\n",
    "yhat_prob = model.predict(X_test)"
   ]
  },
  {
   "cell_type": "code",
   "execution_count": 52,
   "metadata": {},
   "outputs": [
    {
     "data": {
      "text/plain": [
       "array([[0.66120815],\n",
       "       [0.5682653 ],\n",
       "       [0.6478264 ],\n",
       "       ...,\n",
       "       [0.43197352],\n",
       "       [0.63160396],\n",
       "       [0.566455  ]], dtype=float32)"
      ]
     },
     "execution_count": 52,
     "metadata": {},
     "output_type": "execute_result"
    }
   ],
   "source": [
    "# Code provided by Jason Brownlee (2019) in 'How to Calculate Precision, Recall, F1, and More for Deep Learning Models’\n",
    "\n",
    "yhat_prob"
   ]
  },
  {
   "cell_type": "code",
   "execution_count": 53,
   "metadata": {},
   "outputs": [],
   "source": [
    "# Predict classes for test set\n",
    "# Code provided by Jason Brownlee (2019) in 'How to Calculate Precision, Recall, F1, and More for Deep Learning Models’\n",
    "\n",
    "yhat_classes = model.predict_classes(X_test)"
   ]
  },
  {
   "cell_type": "code",
   "execution_count": 54,
   "metadata": {},
   "outputs": [
    {
     "name": "stdout",
     "output_type": "stream",
     "text": [
      "Accuracy: 0.588366\n",
      "Precision: 0.134718\n",
      "Recall: 0.516710\n",
      "F1 score: 0.213716\n"
     ]
    }
   ],
   "source": [
    "# Calculate additional metrics \n",
    "# Code provided by Jason Brownlee (2019) in 'How to Calculate Precision, Recall, F1, and More for Deep Learning Models’\n",
    "\n",
    "from sklearn import metrics\n",
    "accuracy = metrics.accuracy_score(y_test, yhat_classes)\n",
    "print('Accuracy: %f' % accuracy)\n",
    "# precision tp / (tp + fp)\n",
    "precision = metrics.precision_score(y_test, yhat_classes)\n",
    "print('Precision: %f' % precision)\n",
    "# recall: tp / (tp + fn)\n",
    "recall = metrics.recall_score(y_test, yhat_classes)\n",
    "print('Recall: %f' % recall)\n",
    "# f1: 2 tp / (2 tp + fp + fn)\n",
    "f1 = metrics.f1_score(y_test, yhat_classes)\n",
    "print('F1 score: %f' % f1)"
   ]
  },
  {
   "cell_type": "code",
   "execution_count": 55,
   "metadata": {},
   "outputs": [
    {
     "data": {
      "text/plain": [
       "array([[1913, 1291],\n",
       "       [ 188,  201]], dtype=int64)"
      ]
     },
     "execution_count": 55,
     "metadata": {},
     "output_type": "execute_result"
    }
   ],
   "source": [
    "# Confusion matrix\n",
    "# Code provided by Scikit-learn API Reference (2019) \n",
    "\n",
    "from sklearn.metrics import confusion_matrix\n",
    "confusion_matrix(y_test, yhat_classes)"
   ]
  },
  {
   "cell_type": "code",
   "execution_count": 56,
   "metadata": {},
   "outputs": [
    {
     "data": {
      "text/plain": [
       "(1913, 1291, 188, 201)"
      ]
     },
     "execution_count": 56,
     "metadata": {},
     "output_type": "execute_result"
    }
   ],
   "source": [
    "# Code provided by Scikit-learn API Reference (2019) \n",
    "\n",
    "tn, fp, fn, tp = confusion_matrix(y_test, yhat_classes).ravel()\n",
    "tn, fp, fn, tp"
   ]
  },
  {
   "cell_type": "code",
   "execution_count": 57,
   "metadata": {},
   "outputs": [
    {
     "data": {
      "text/plain": [
       "0.5568878394295049"
      ]
     },
     "execution_count": 57,
     "metadata": {},
     "output_type": "execute_result"
    }
   ],
   "source": [
    "# AUC\n",
    "# Code provided by Scikit-learn API Reference (2019) \n",
    "\n",
    "fpr, tpr, thresholds = metrics.roc_curve(y_test, yhat_classes, pos_label=1)\n",
    "metrics.auc(fpr, tpr)"
   ]
  }
 ],
 "metadata": {
  "kernelspec": {
   "display_name": "Python 3",
   "language": "python",
   "name": "python3"
  },
  "language_info": {
   "codemirror_mode": {
    "name": "ipython",
    "version": 3
   },
   "file_extension": ".py",
   "mimetype": "text/x-python",
   "name": "python",
   "nbconvert_exporter": "python",
   "pygments_lexer": "ipython3",
   "version": "3.6.5"
  }
 },
 "nbformat": 4,
 "nbformat_minor": 2
}
